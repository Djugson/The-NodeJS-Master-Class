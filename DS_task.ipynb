{
  "nbformat": 4,
  "nbformat_minor": 0,
  "metadata": {
    "colab": {
      "name": "DS_task.ipynb",
      "provenance": [],
      "collapsed_sections": [],
      "authorship_tag": "ABX9TyMTBasvTr+XBiU0UEStMdsO",
      "include_colab_link": true
    },
    "kernelspec": {
      "name": "python3",
      "display_name": "Python 3"
    },
    "language_info": {
      "name": "python"
    }
  },
  "cells": [
    {
      "cell_type": "markdown",
      "metadata": {
        "id": "view-in-github",
        "colab_type": "text"
      },
      "source": [
        "<a href=\"https://colab.research.google.com/github/Djugson/The-NodeJS-Master-Class/blob/master/DS_task.ipynb\" target=\"_parent\"><img src=\"https://colab.research.google.com/assets/colab-badge.svg\" alt=\"Open In Colab\"/></a>"
      ]
    },
    {
      "cell_type": "code",
      "metadata": {
        "id": "7tETZsfJbQrj"
      },
      "source": [
        "import matplotlib.pyplot as plt\n",
        "import pandas as pd\n",
        "import seaborn as sns\n",
        "import numpy as np\n",
        "\n",
        "train=pd.read_csv(\"DSChallengeDataset - task_train_data.csv\")"
      ],
      "execution_count": 128,
      "outputs": []
    },
    {
      "cell_type": "code",
      "metadata": {
        "id": "wLTcEzG5V_p6"
      },
      "source": [
        "#Turn sting into a number\n",
        "train['Gender'].replace(to_replace=['Male','Female'],value=[0,1],inplace=True)\n",
        "train['Property_Area'].replace(to_replace=['Rural','Urban','Semiurban'], value=[0,1,2],inplace=True)\n",
        "train['Dependents'].replace(to_replace=['3+'], value=[3],inplace=True)\n",
        "train['Married'].replace(to_replace=['No','Yes'], value=[0,1],inplace=True)\n",
        "train['Education'].replace(to_replace=['Not Graduate','Graduate'], value=[0,1],inplace=True)\n",
        "train['Self_Employed'].replace(to_replace=['No','Yes'], value=[0,1],inplace=True)\n",
        "train['Loan_Status'].replace(to_replace=['N','Y'], value=[0,1],inplace=True)"
      ],
      "execution_count": 129,
      "outputs": []
    },
    {
      "cell_type": "code",
      "metadata": {
        "colab": {
          "base_uri": "https://localhost:8080/",
          "height": 202
        },
        "id": "9T7ROHB7Xqgg",
        "outputId": "c6451e2e-308a-4ed4-c26f-04840cfcd16a"
      },
      "source": [
        "train.head()"
      ],
      "execution_count": 130,
      "outputs": [
        {
          "output_type": "execute_result",
          "data": {
            "text/html": [
              "<div>\n",
              "<style scoped>\n",
              "    .dataframe tbody tr th:only-of-type {\n",
              "        vertical-align: middle;\n",
              "    }\n",
              "\n",
              "    .dataframe tbody tr th {\n",
              "        vertical-align: top;\n",
              "    }\n",
              "\n",
              "    .dataframe thead th {\n",
              "        text-align: right;\n",
              "    }\n",
              "</style>\n",
              "<table border=\"1\" class=\"dataframe\">\n",
              "  <thead>\n",
              "    <tr style=\"text-align: right;\">\n",
              "      <th></th>\n",
              "      <th>Loan_ID</th>\n",
              "      <th>Gender</th>\n",
              "      <th>Married</th>\n",
              "      <th>Dependents</th>\n",
              "      <th>Education</th>\n",
              "      <th>Self_Employed</th>\n",
              "      <th>ApplicantIncome</th>\n",
              "      <th>CoapplicantIncome</th>\n",
              "      <th>LoanAmount</th>\n",
              "      <th>Loan_Amount_Term</th>\n",
              "      <th>Credit_History</th>\n",
              "      <th>Property_Area</th>\n",
              "      <th>Loan_Status</th>\n",
              "    </tr>\n",
              "  </thead>\n",
              "  <tbody>\n",
              "    <tr>\n",
              "      <th>0</th>\n",
              "      <td>ID1</td>\n",
              "      <td>0.0</td>\n",
              "      <td>0.0</td>\n",
              "      <td>0</td>\n",
              "      <td>1</td>\n",
              "      <td>0.0</td>\n",
              "      <td>5849</td>\n",
              "      <td>0.0</td>\n",
              "      <td>NaN</td>\n",
              "      <td>360.0</td>\n",
              "      <td>1.0</td>\n",
              "      <td>1</td>\n",
              "      <td>1</td>\n",
              "    </tr>\n",
              "    <tr>\n",
              "      <th>1</th>\n",
              "      <td>ID2</td>\n",
              "      <td>0.0</td>\n",
              "      <td>1.0</td>\n",
              "      <td>1</td>\n",
              "      <td>1</td>\n",
              "      <td>0.0</td>\n",
              "      <td>4583</td>\n",
              "      <td>1508.0</td>\n",
              "      <td>128.0</td>\n",
              "      <td>360.0</td>\n",
              "      <td>1.0</td>\n",
              "      <td>0</td>\n",
              "      <td>0</td>\n",
              "    </tr>\n",
              "    <tr>\n",
              "      <th>2</th>\n",
              "      <td>ID3</td>\n",
              "      <td>0.0</td>\n",
              "      <td>1.0</td>\n",
              "      <td>0</td>\n",
              "      <td>1</td>\n",
              "      <td>1.0</td>\n",
              "      <td>3000</td>\n",
              "      <td>0.0</td>\n",
              "      <td>66.0</td>\n",
              "      <td>360.0</td>\n",
              "      <td>1.0</td>\n",
              "      <td>1</td>\n",
              "      <td>1</td>\n",
              "    </tr>\n",
              "    <tr>\n",
              "      <th>3</th>\n",
              "      <td>ID4</td>\n",
              "      <td>0.0</td>\n",
              "      <td>1.0</td>\n",
              "      <td>0</td>\n",
              "      <td>0</td>\n",
              "      <td>0.0</td>\n",
              "      <td>2583</td>\n",
              "      <td>2358.0</td>\n",
              "      <td>120.0</td>\n",
              "      <td>360.0</td>\n",
              "      <td>1.0</td>\n",
              "      <td>1</td>\n",
              "      <td>1</td>\n",
              "    </tr>\n",
              "    <tr>\n",
              "      <th>4</th>\n",
              "      <td>ID5</td>\n",
              "      <td>0.0</td>\n",
              "      <td>0.0</td>\n",
              "      <td>0</td>\n",
              "      <td>1</td>\n",
              "      <td>0.0</td>\n",
              "      <td>6000</td>\n",
              "      <td>0.0</td>\n",
              "      <td>141.0</td>\n",
              "      <td>360.0</td>\n",
              "      <td>1.0</td>\n",
              "      <td>1</td>\n",
              "      <td>1</td>\n",
              "    </tr>\n",
              "  </tbody>\n",
              "</table>\n",
              "</div>"
            ],
            "text/plain": [
              "  Loan_ID  Gender  Married  ... Credit_History  Property_Area  Loan_Status\n",
              "0     ID1     0.0      0.0  ...            1.0              1            1\n",
              "1     ID2     0.0      1.0  ...            1.0              0            0\n",
              "2     ID3     0.0      1.0  ...            1.0              1            1\n",
              "3     ID4     0.0      1.0  ...            1.0              1            1\n",
              "4     ID5     0.0      0.0  ...            1.0              1            1\n",
              "\n",
              "[5 rows x 13 columns]"
            ]
          },
          "metadata": {},
          "execution_count": 130
        }
      ]
    },
    {
      "cell_type": "code",
      "metadata": {
        "id": "9fyrE8s6XKqB"
      },
      "source": [
        "#Fill the empty cells\n",
        "train['Gender'].fillna(train['Gender'].mode()[0], inplace=True)\n",
        "train['Married'].fillna(train['Married'].mode()[0], inplace=True)\n",
        "train['Dependents'].fillna(train['Dependents'].mode()[0], inplace=True)\n",
        "train['Loan_Amount_Term'].fillna(train['Loan_Amount_Term'].mode()[0], inplace=True)\n",
        "train['Credit_History'].fillna(train['Credit_History'].mode()[0], inplace=True)\n",
        "train['Self_Employed'].fillna(train['Self_Employed'].mode()[0], inplace=True)\n",
        "train['LoanAmount'].fillna(train['LoanAmount'].mean(), inplace=True)\n",
        "train['Education'].fillna(train['Education'].mode()[0], inplace=True)\n",
        "train['ApplicantIncome'].fillna(train['ApplicantIncome'].mean(), inplace=True)\n",
        "train['CoapplicantIncome'].fillna(train['CoapplicantIncome'].mean(), inplace=True)"
      ],
      "execution_count": 131,
      "outputs": []
    },
    {
      "cell_type": "code",
      "metadata": {
        "colab": {
          "base_uri": "https://localhost:8080/",
          "height": 202
        },
        "id": "gZad-mpRbr2w",
        "outputId": "8c4a47dc-782e-4652-d6f6-3082d48c71c7"
      },
      "source": [
        "train.head()"
      ],
      "execution_count": 132,
      "outputs": [
        {
          "output_type": "execute_result",
          "data": {
            "text/html": [
              "<div>\n",
              "<style scoped>\n",
              "    .dataframe tbody tr th:only-of-type {\n",
              "        vertical-align: middle;\n",
              "    }\n",
              "\n",
              "    .dataframe tbody tr th {\n",
              "        vertical-align: top;\n",
              "    }\n",
              "\n",
              "    .dataframe thead th {\n",
              "        text-align: right;\n",
              "    }\n",
              "</style>\n",
              "<table border=\"1\" class=\"dataframe\">\n",
              "  <thead>\n",
              "    <tr style=\"text-align: right;\">\n",
              "      <th></th>\n",
              "      <th>Loan_ID</th>\n",
              "      <th>Gender</th>\n",
              "      <th>Married</th>\n",
              "      <th>Dependents</th>\n",
              "      <th>Education</th>\n",
              "      <th>Self_Employed</th>\n",
              "      <th>ApplicantIncome</th>\n",
              "      <th>CoapplicantIncome</th>\n",
              "      <th>LoanAmount</th>\n",
              "      <th>Loan_Amount_Term</th>\n",
              "      <th>Credit_History</th>\n",
              "      <th>Property_Area</th>\n",
              "      <th>Loan_Status</th>\n",
              "    </tr>\n",
              "  </thead>\n",
              "  <tbody>\n",
              "    <tr>\n",
              "      <th>0</th>\n",
              "      <td>ID1</td>\n",
              "      <td>0.0</td>\n",
              "      <td>0.0</td>\n",
              "      <td>0</td>\n",
              "      <td>1</td>\n",
              "      <td>0.0</td>\n",
              "      <td>5849</td>\n",
              "      <td>0.0</td>\n",
              "      <td>146.412162</td>\n",
              "      <td>360.0</td>\n",
              "      <td>1.0</td>\n",
              "      <td>1</td>\n",
              "      <td>1</td>\n",
              "    </tr>\n",
              "    <tr>\n",
              "      <th>1</th>\n",
              "      <td>ID2</td>\n",
              "      <td>0.0</td>\n",
              "      <td>1.0</td>\n",
              "      <td>1</td>\n",
              "      <td>1</td>\n",
              "      <td>0.0</td>\n",
              "      <td>4583</td>\n",
              "      <td>1508.0</td>\n",
              "      <td>128.000000</td>\n",
              "      <td>360.0</td>\n",
              "      <td>1.0</td>\n",
              "      <td>0</td>\n",
              "      <td>0</td>\n",
              "    </tr>\n",
              "    <tr>\n",
              "      <th>2</th>\n",
              "      <td>ID3</td>\n",
              "      <td>0.0</td>\n",
              "      <td>1.0</td>\n",
              "      <td>0</td>\n",
              "      <td>1</td>\n",
              "      <td>1.0</td>\n",
              "      <td>3000</td>\n",
              "      <td>0.0</td>\n",
              "      <td>66.000000</td>\n",
              "      <td>360.0</td>\n",
              "      <td>1.0</td>\n",
              "      <td>1</td>\n",
              "      <td>1</td>\n",
              "    </tr>\n",
              "    <tr>\n",
              "      <th>3</th>\n",
              "      <td>ID4</td>\n",
              "      <td>0.0</td>\n",
              "      <td>1.0</td>\n",
              "      <td>0</td>\n",
              "      <td>0</td>\n",
              "      <td>0.0</td>\n",
              "      <td>2583</td>\n",
              "      <td>2358.0</td>\n",
              "      <td>120.000000</td>\n",
              "      <td>360.0</td>\n",
              "      <td>1.0</td>\n",
              "      <td>1</td>\n",
              "      <td>1</td>\n",
              "    </tr>\n",
              "    <tr>\n",
              "      <th>4</th>\n",
              "      <td>ID5</td>\n",
              "      <td>0.0</td>\n",
              "      <td>0.0</td>\n",
              "      <td>0</td>\n",
              "      <td>1</td>\n",
              "      <td>0.0</td>\n",
              "      <td>6000</td>\n",
              "      <td>0.0</td>\n",
              "      <td>141.000000</td>\n",
              "      <td>360.0</td>\n",
              "      <td>1.0</td>\n",
              "      <td>1</td>\n",
              "      <td>1</td>\n",
              "    </tr>\n",
              "  </tbody>\n",
              "</table>\n",
              "</div>"
            ],
            "text/plain": [
              "  Loan_ID  Gender  Married  ... Credit_History  Property_Area  Loan_Status\n",
              "0     ID1     0.0      0.0  ...            1.0              1            1\n",
              "1     ID2     0.0      1.0  ...            1.0              0            0\n",
              "2     ID3     0.0      1.0  ...            1.0              1            1\n",
              "3     ID4     0.0      1.0  ...            1.0              1            1\n",
              "4     ID5     0.0      0.0  ...            1.0              1            1\n",
              "\n",
              "[5 rows x 13 columns]"
            ]
          },
          "metadata": {},
          "execution_count": 132
        }
      ]
    },
    {
      "cell_type": "code",
      "metadata": {
        "id": "mqsVkZaDvirO"
      },
      "source": [
        "from sklearn.linear_model import LogisticRegression\n",
        "from sklearn.ensemble import RandomForestClassifier\n",
        "from sklearn.neighbors import KNeighborsClassifier\n",
        "\n",
        "from sklearn.model_selection import train_test_split\n",
        "\n",
        "from sklearn import metrics\n",
        "\n",
        "var = ['Credit_History', 'Education', 'Married', 'Self_Employed', 'Property_Area', 'Gender', 'ApplicantIncome', 'CoapplicantIncome', 'LoanAmount', 'Loan_Amount_Term']\n",
        "res = 'Loan_Status'\n",
        "data_train, data_test = train_test_split(train)"
      ],
      "execution_count": 133,
      "outputs": []
    },
    {
      "cell_type": "code",
      "metadata": {
        "colab": {
          "base_uri": "https://localhost:8080/"
        },
        "id": "B8S_8Uo2bbKZ",
        "outputId": "d71f6e3e-7045-4e05-a8fb-5d689f251a37"
      },
      "source": [
        "model_LR = LogisticRegression(max_iter=150)\n",
        "model_LR.fit(train[var],train[res])\n",
        "predictions = model_LR.predict(train[var])\n",
        "accuracy_LR = metrics.accuracy_score(predictions,train[res])\n",
        "\n",
        "error_LR = []\n",
        "model_LR.fit(data_train[var], data_train[res])\n",
        "error_LR.append(model_LR.score(data_test[var], data_test[res]))\n",
        "print(\"- Logistic Regression -\")\n",
        "print (\"Accuracy : %s\" % \"{0:.3%}\".format(accuracy_LR))\n",
        "print(\"Cross-Validation Score : %s\" % \"{0:.3%}\".format(np.mean(error_LR)))"
      ],
      "execution_count": 134,
      "outputs": [
        {
          "output_type": "stream",
          "name": "stdout",
          "text": [
            "- Logistic Regression -\n",
            "Accuracy : 81.270%\n",
            "Cross-Validation Score : 79.870%\n"
          ]
        }
      ]
    },
    {
      "cell_type": "code",
      "metadata": {
        "colab": {
          "base_uri": "https://localhost:8080/"
        },
        "id": "vwzfe1b5bSxq",
        "outputId": "79dedeae-4fc3-4cb5-f203-d2fce31d0262"
      },
      "source": [
        "model_RF = RandomForestClassifier()\n",
        "model_RF.fit(train[var],train[res])\n",
        "predictions = model_RF.predict(train[var])\n",
        "accuracy_RF = metrics.accuracy_score(predictions,train[res])\n",
        "\n",
        "error_RF = []\n",
        "model_RF.fit(data_train[var], data_train[res])\n",
        "error_RF.append(model_RF.score(data_test[var], data_test[res]))\n",
        "print(\"- Random Forest -\")\n",
        "print (\"Accuracy : %s\" % \"{0:.3%}\".format(accuracy_RF))\n",
        "print(\"Cross-Validation Score : %s\" % \"{0:.3%}\".format(np.mean(error_RF)))"
      ],
      "execution_count": 135,
      "outputs": [
        {
          "output_type": "stream",
          "name": "stdout",
          "text": [
            "- Random Forest -\n",
            "Accuracy : 100.000%\n",
            "Cross-Validation Score : 77.922%\n"
          ]
        }
      ]
    },
    {
      "cell_type": "code",
      "metadata": {
        "colab": {
          "base_uri": "https://localhost:8080/"
        },
        "id": "lKxTcN5bcjha",
        "outputId": "5e1f80d8-cffd-4cb2-8b78-0dd384fa6e48"
      },
      "source": [
        "model_knn = KNeighborsClassifier()\n",
        "model_knn.fit(train[var],train[res])\n",
        "predictions = model_knn.predict(train[var])\n",
        "accuracy_KNN = metrics.accuracy_score(predictions,train[res])\n",
        "\n",
        "error_KNN = []\n",
        "model_knn.fit(data_train[var], data_train[res])\n",
        "error_KNN.append(model_knn.score(data_test[var], data_test[res]))\n",
        "print(\"- K Nearest Neighbots -\")\n",
        "print (\"Accuracy : %s\" % \"{0:.3%}\".format(accuracy_KNN))\n",
        "print(\"Cross-Validation Score : %s\" % \"{0:.3%}\".format(np.mean(error_KNN)))"
      ],
      "execution_count": 136,
      "outputs": [
        {
          "output_type": "stream",
          "name": "stdout",
          "text": [
            "- K Nearest Neighbots -\n",
            "Accuracy : 72.964%\n",
            "Cross-Validation Score : 57.792%\n"
          ]
        }
      ]
    }
  ]
}